{
 "cells": [
  {
   "cell_type": "code",
   "execution_count": 2,
   "metadata": {},
   "outputs": [],
   "source": [
    "import pandas as pd"
   ]
  },
  {
   "cell_type": "code",
   "execution_count": 3,
   "metadata": {},
   "outputs": [
    {
     "data": {
      "text/plain": [
       "'1.2.4'"
      ]
     },
     "execution_count": 3,
     "metadata": {},
     "output_type": "execute_result"
    }
   ],
   "source": [
    "pd.__version__"
   ]
  },
  {
   "cell_type": "markdown",
   "metadata": {},
   "source": [
    "http://pandas.pydata.org/\n",
    "\n",
    "Pandas es la extensión logica de numpy al mundo del Análisis de datos. \n",
    "\n",
    "De forma muy general, Pandas extrae la figura del Dataframe conocida por aquellos que usan R a python.\n",
    "\n",
    "Un pandas dataframe es una tabla, lo que es una hoja de excel, con filas y columnas.\n",
    "\n",
    "En pandas cada columna es una Serie que esta definida con un numpy array por debajo."
   ]
  },
  {
   "cell_type": "markdown",
   "metadata": {},
   "source": [
    "# Creacion"
   ]
  },
  {
   "cell_type": "markdown",
   "metadata": {},
   "source": [
    "pandas puede leer archivos de muchos tipos, csv, json, excel entre otros"
   ]
  },
  {
   "cell_type": "code",
   "execution_count": 4,
   "metadata": {},
   "outputs": [
    {
     "data": {
      "text/html": [
       "<div>\n",
       "<style scoped>\n",
       "    .dataframe tbody tr th:only-of-type {\n",
       "        vertical-align: middle;\n",
       "    }\n",
       "\n",
       "    .dataframe tbody tr th {\n",
       "        vertical-align: top;\n",
       "    }\n",
       "\n",
       "    .dataframe thead th {\n",
       "        text-align: right;\n",
       "    }\n",
       "</style>\n",
       "<table border=\"1\" class=\"dataframe\">\n",
       "  <thead>\n",
       "    <tr style=\"text-align: right;\">\n",
       "      <th></th>\n",
       "      <th>nombre</th>\n",
       "      <th>apellido</th>\n",
       "      <th>edad</th>\n",
       "    </tr>\n",
       "  </thead>\n",
       "  <tbody>\n",
       "    <tr>\n",
       "      <th>0</th>\n",
       "      <td>Rick</td>\n",
       "      <td>Sanchez</td>\n",
       "      <td>60</td>\n",
       "    </tr>\n",
       "    <tr>\n",
       "      <th>1</th>\n",
       "      <td>Morty</td>\n",
       "      <td>Smith</td>\n",
       "      <td>14</td>\n",
       "    </tr>\n",
       "  </tbody>\n",
       "</table>\n",
       "</div>"
      ],
      "text/plain": [
       "  nombre apellido  edad\n",
       "0   Rick  Sanchez    60\n",
       "1  Morty    Smith    14"
      ]
     },
     "execution_count": 4,
     "metadata": {},
     "output_type": "execute_result"
    }
   ],
   "source": [
    "rick_morty = pd.DataFrame(\n",
    "    {\n",
    "        \"nombre\": [\"Rick\", \"Morty\"],\n",
    "        \"apellido\": [\"Sanchez\", \"Smith\"],\n",
    "        \"edad\": [60, 14],\n",
    "    }\n",
    ")\n",
    "\n",
    "rick_morty"
   ]
  },
  {
   "cell_type": "code",
   "execution_count": 5,
   "metadata": {},
   "outputs": [
    {
     "data": {
      "text/html": [
       "<div>\n",
       "<style scoped>\n",
       "    .dataframe tbody tr th:only-of-type {\n",
       "        vertical-align: middle;\n",
       "    }\n",
       "\n",
       "    .dataframe tbody tr th {\n",
       "        vertical-align: top;\n",
       "    }\n",
       "\n",
       "    .dataframe thead th {\n",
       "        text-align: right;\n",
       "    }\n",
       "</style>\n",
       "<table border=\"1\" class=\"dataframe\">\n",
       "  <thead>\n",
       "    <tr style=\"text-align: right;\">\n",
       "      <th></th>\n",
       "      <th>nombre</th>\n",
       "      <th>apellido</th>\n",
       "      <th>edad</th>\n",
       "    </tr>\n",
       "  </thead>\n",
       "  <tbody>\n",
       "    <tr>\n",
       "      <th>0</th>\n",
       "      <td>Rick</td>\n",
       "      <td>Sanchez</td>\n",
       "      <td>60</td>\n",
       "    </tr>\n",
       "    <tr>\n",
       "      <th>1</th>\n",
       "      <td>Morty</td>\n",
       "      <td>Smith</td>\n",
       "      <td>14</td>\n",
       "    </tr>\n",
       "  </tbody>\n",
       "</table>\n",
       "</div>"
      ],
      "text/plain": [
       "  nombre apellido  edad\n",
       "0   Rick  Sanchez    60\n",
       "1  Morty    Smith    14"
      ]
     },
     "execution_count": 5,
     "metadata": {},
     "output_type": "execute_result"
    }
   ],
   "source": [
    "rick_morty = pd.DataFrame(\n",
    "    [\n",
    "        [\"Rick\", \"Sanchez\", 60],\n",
    "        [\"Morty\", \"Smith\", 14]\n",
    "    ], columns = [\"nombre\", \"apellido\", \"edad\"]\n",
    ")\n",
    "rick_morty"
   ]
  },
  {
   "cell_type": "code",
   "execution_count": 6,
   "metadata": {},
   "outputs": [
    {
     "data": {
      "text/plain": [
       "pandas.core.series.Series"
      ]
     },
     "execution_count": 6,
     "metadata": {},
     "output_type": "execute_result"
    }
   ],
   "source": [
    "type(rick_morty.nombre)"
   ]
  },
  {
   "cell_type": "code",
   "execution_count": 7,
   "metadata": {},
   "outputs": [
    {
     "name": "stdout",
     "output_type": "stream",
     "text": [
      "state,state_abbreviation,county,fips,party,candidate,votes,fraction_votes\r\n",
      "Alabama,AL,Autauga,1001.0,Democrat,Bernie Sanders,544,0.182\r\n",
      "Alabama,AL,Autauga,1001.0,Democrat,Hillary Clinton,2387,0.8\r\n",
      "Alabama,AL,Baldwin,1003.0,Democrat,Bernie Sanders,2694,0.32899999999999996\r\n",
      "Alabama,AL,Baldwin,1003.0,Democrat,Hillary Clinton,5290,0.647\r\n"
     ]
    }
   ],
   "source": [
    "!head -n 5 \"primary_results.csv\""
   ]
  },
  {
   "cell_type": "code",
   "execution_count": 8,
   "metadata": {},
   "outputs": [],
   "source": [
    "votos_primarias_us = pd.read_csv(\"primary_results.csv\")"
   ]
  },
  {
   "cell_type": "markdown",
   "metadata": {},
   "source": [
    "por convención cuando se analiza un solo dataframe se suele llamar df"
   ]
  },
  {
   "cell_type": "code",
   "execution_count": 9,
   "metadata": {},
   "outputs": [],
   "source": [
    "df = votos_primarias_us"
   ]
  },
  {
   "cell_type": "markdown",
   "metadata": {},
   "source": [
    "# Exploración"
   ]
  },
  {
   "cell_type": "markdown",
   "metadata": {},
   "source": [
    "`shape` nos devuelve el número de filas y columnas"
   ]
  },
  {
   "cell_type": "code",
   "execution_count": 10,
   "metadata": {},
   "outputs": [
    {
     "data": {
      "text/plain": [
       "(24611, 8)"
      ]
     },
     "execution_count": 10,
     "metadata": {},
     "output_type": "execute_result"
    }
   ],
   "source": [
    "df.shape"
   ]
  },
  {
   "cell_type": "code",
   "execution_count": 11,
   "metadata": {},
   "outputs": [
    {
     "data": {
      "text/html": [
       "<div>\n",
       "<style scoped>\n",
       "    .dataframe tbody tr th:only-of-type {\n",
       "        vertical-align: middle;\n",
       "    }\n",
       "\n",
       "    .dataframe tbody tr th {\n",
       "        vertical-align: top;\n",
       "    }\n",
       "\n",
       "    .dataframe thead th {\n",
       "        text-align: right;\n",
       "    }\n",
       "</style>\n",
       "<table border=\"1\" class=\"dataframe\">\n",
       "  <thead>\n",
       "    <tr style=\"text-align: right;\">\n",
       "      <th></th>\n",
       "      <th>state</th>\n",
       "      <th>state_abbreviation</th>\n",
       "      <th>county</th>\n",
       "      <th>fips</th>\n",
       "      <th>party</th>\n",
       "      <th>candidate</th>\n",
       "      <th>votes</th>\n",
       "      <th>fraction_votes</th>\n",
       "    </tr>\n",
       "  </thead>\n",
       "  <tbody>\n",
       "    <tr>\n",
       "      <th>0</th>\n",
       "      <td>Alabama</td>\n",
       "      <td>AL</td>\n",
       "      <td>Autauga</td>\n",
       "      <td>1001.0</td>\n",
       "      <td>Democrat</td>\n",
       "      <td>Bernie Sanders</td>\n",
       "      <td>544</td>\n",
       "      <td>0.182</td>\n",
       "    </tr>\n",
       "    <tr>\n",
       "      <th>1</th>\n",
       "      <td>Alabama</td>\n",
       "      <td>AL</td>\n",
       "      <td>Autauga</td>\n",
       "      <td>1001.0</td>\n",
       "      <td>Democrat</td>\n",
       "      <td>Hillary Clinton</td>\n",
       "      <td>2387</td>\n",
       "      <td>0.800</td>\n",
       "    </tr>\n",
       "    <tr>\n",
       "      <th>2</th>\n",
       "      <td>Alabama</td>\n",
       "      <td>AL</td>\n",
       "      <td>Baldwin</td>\n",
       "      <td>1003.0</td>\n",
       "      <td>Democrat</td>\n",
       "      <td>Bernie Sanders</td>\n",
       "      <td>2694</td>\n",
       "      <td>0.329</td>\n",
       "    </tr>\n",
       "    <tr>\n",
       "      <th>3</th>\n",
       "      <td>Alabama</td>\n",
       "      <td>AL</td>\n",
       "      <td>Baldwin</td>\n",
       "      <td>1003.0</td>\n",
       "      <td>Democrat</td>\n",
       "      <td>Hillary Clinton</td>\n",
       "      <td>5290</td>\n",
       "      <td>0.647</td>\n",
       "    </tr>\n",
       "    <tr>\n",
       "      <th>4</th>\n",
       "      <td>Alabama</td>\n",
       "      <td>AL</td>\n",
       "      <td>Barbour</td>\n",
       "      <td>1005.0</td>\n",
       "      <td>Democrat</td>\n",
       "      <td>Bernie Sanders</td>\n",
       "      <td>222</td>\n",
       "      <td>0.078</td>\n",
       "    </tr>\n",
       "  </tbody>\n",
       "</table>\n",
       "</div>"
      ],
      "text/plain": [
       "     state state_abbreviation   county    fips     party        candidate  \\\n",
       "0  Alabama                 AL  Autauga  1001.0  Democrat   Bernie Sanders   \n",
       "1  Alabama                 AL  Autauga  1001.0  Democrat  Hillary Clinton   \n",
       "2  Alabama                 AL  Baldwin  1003.0  Democrat   Bernie Sanders   \n",
       "3  Alabama                 AL  Baldwin  1003.0  Democrat  Hillary Clinton   \n",
       "4  Alabama                 AL  Barbour  1005.0  Democrat   Bernie Sanders   \n",
       "\n",
       "   votes  fraction_votes  \n",
       "0    544           0.182  \n",
       "1   2387           0.800  \n",
       "2   2694           0.329  \n",
       "3   5290           0.647  \n",
       "4    222           0.078  "
      ]
     },
     "execution_count": 11,
     "metadata": {},
     "output_type": "execute_result"
    }
   ],
   "source": [
    "df.head()"
   ]
  },
  {
   "cell_type": "code",
   "execution_count": 12,
   "metadata": {},
   "outputs": [
    {
     "data": {
      "text/html": [
       "<div>\n",
       "<style scoped>\n",
       "    .dataframe tbody tr th:only-of-type {\n",
       "        vertical-align: middle;\n",
       "    }\n",
       "\n",
       "    .dataframe tbody tr th {\n",
       "        vertical-align: top;\n",
       "    }\n",
       "\n",
       "    .dataframe thead th {\n",
       "        text-align: right;\n",
       "    }\n",
       "</style>\n",
       "<table border=\"1\" class=\"dataframe\">\n",
       "  <thead>\n",
       "    <tr style=\"text-align: right;\">\n",
       "      <th></th>\n",
       "      <th>state</th>\n",
       "      <th>state_abbreviation</th>\n",
       "      <th>county</th>\n",
       "      <th>fips</th>\n",
       "      <th>party</th>\n",
       "      <th>candidate</th>\n",
       "      <th>votes</th>\n",
       "      <th>fraction_votes</th>\n",
       "    </tr>\n",
       "  </thead>\n",
       "  <tbody>\n",
       "    <tr>\n",
       "      <th>24606</th>\n",
       "      <td>Wyoming</td>\n",
       "      <td>WY</td>\n",
       "      <td>Teton-Sublette</td>\n",
       "      <td>95600028.0</td>\n",
       "      <td>Republican</td>\n",
       "      <td>Ted Cruz</td>\n",
       "      <td>0</td>\n",
       "      <td>0.0</td>\n",
       "    </tr>\n",
       "    <tr>\n",
       "      <th>24607</th>\n",
       "      <td>Wyoming</td>\n",
       "      <td>WY</td>\n",
       "      <td>Uinta-Lincoln</td>\n",
       "      <td>95600027.0</td>\n",
       "      <td>Republican</td>\n",
       "      <td>Donald Trump</td>\n",
       "      <td>0</td>\n",
       "      <td>0.0</td>\n",
       "    </tr>\n",
       "    <tr>\n",
       "      <th>24608</th>\n",
       "      <td>Wyoming</td>\n",
       "      <td>WY</td>\n",
       "      <td>Uinta-Lincoln</td>\n",
       "      <td>95600027.0</td>\n",
       "      <td>Republican</td>\n",
       "      <td>John Kasich</td>\n",
       "      <td>0</td>\n",
       "      <td>0.0</td>\n",
       "    </tr>\n",
       "    <tr>\n",
       "      <th>24609</th>\n",
       "      <td>Wyoming</td>\n",
       "      <td>WY</td>\n",
       "      <td>Uinta-Lincoln</td>\n",
       "      <td>95600027.0</td>\n",
       "      <td>Republican</td>\n",
       "      <td>Marco Rubio</td>\n",
       "      <td>0</td>\n",
       "      <td>0.0</td>\n",
       "    </tr>\n",
       "    <tr>\n",
       "      <th>24610</th>\n",
       "      <td>Wyoming</td>\n",
       "      <td>WY</td>\n",
       "      <td>Uinta-Lincoln</td>\n",
       "      <td>95600027.0</td>\n",
       "      <td>Republican</td>\n",
       "      <td>Ted Cruz</td>\n",
       "      <td>53</td>\n",
       "      <td>1.0</td>\n",
       "    </tr>\n",
       "  </tbody>\n",
       "</table>\n",
       "</div>"
      ],
      "text/plain": [
       "         state state_abbreviation          county        fips       party  \\\n",
       "24606  Wyoming                 WY  Teton-Sublette  95600028.0  Republican   \n",
       "24607  Wyoming                 WY   Uinta-Lincoln  95600027.0  Republican   \n",
       "24608  Wyoming                 WY   Uinta-Lincoln  95600027.0  Republican   \n",
       "24609  Wyoming                 WY   Uinta-Lincoln  95600027.0  Republican   \n",
       "24610  Wyoming                 WY   Uinta-Lincoln  95600027.0  Republican   \n",
       "\n",
       "          candidate  votes  fraction_votes  \n",
       "24606      Ted Cruz      0             0.0  \n",
       "24607  Donald Trump      0             0.0  \n",
       "24608   John Kasich      0             0.0  \n",
       "24609   Marco Rubio      0             0.0  \n",
       "24610      Ted Cruz     53             1.0  "
      ]
     },
     "execution_count": 12,
     "metadata": {},
     "output_type": "execute_result"
    }
   ],
   "source": [
    "df.tail()"
   ]
  },
  {
   "cell_type": "code",
   "execution_count": 13,
   "metadata": {},
   "outputs": [
    {
     "data": {
      "text/plain": [
       "state                  object\n",
       "state_abbreviation     object\n",
       "county                 object\n",
       "fips                  float64\n",
       "party                  object\n",
       "candidate              object\n",
       "votes                   int64\n",
       "fraction_votes        float64\n",
       "dtype: object"
      ]
     },
     "execution_count": 13,
     "metadata": {},
     "output_type": "execute_result"
    }
   ],
   "source": [
    "df.dtypes"
   ]
  },
  {
   "cell_type": "code",
   "execution_count": 14,
   "metadata": {},
   "outputs": [
    {
     "data": {
      "text/html": [
       "<div>\n",
       "<style scoped>\n",
       "    .dataframe tbody tr th:only-of-type {\n",
       "        vertical-align: middle;\n",
       "    }\n",
       "\n",
       "    .dataframe tbody tr th {\n",
       "        vertical-align: top;\n",
       "    }\n",
       "\n",
       "    .dataframe thead th {\n",
       "        text-align: right;\n",
       "    }\n",
       "</style>\n",
       "<table border=\"1\" class=\"dataframe\">\n",
       "  <thead>\n",
       "    <tr style=\"text-align: right;\">\n",
       "      <th></th>\n",
       "      <th>fips</th>\n",
       "      <th>votes</th>\n",
       "      <th>fraction_votes</th>\n",
       "    </tr>\n",
       "  </thead>\n",
       "  <tbody>\n",
       "    <tr>\n",
       "      <th>count</th>\n",
       "      <td>2.451100e+04</td>\n",
       "      <td>24611.000000</td>\n",
       "      <td>24611.000000</td>\n",
       "    </tr>\n",
       "    <tr>\n",
       "      <th>mean</th>\n",
       "      <td>2.667152e+07</td>\n",
       "      <td>2306.252773</td>\n",
       "      <td>0.304524</td>\n",
       "    </tr>\n",
       "    <tr>\n",
       "      <th>std</th>\n",
       "      <td>4.200978e+07</td>\n",
       "      <td>9861.183572</td>\n",
       "      <td>0.231401</td>\n",
       "    </tr>\n",
       "    <tr>\n",
       "      <th>min</th>\n",
       "      <td>1.001000e+03</td>\n",
       "      <td>0.000000</td>\n",
       "      <td>0.000000</td>\n",
       "    </tr>\n",
       "    <tr>\n",
       "      <th>25%</th>\n",
       "      <td>2.109100e+04</td>\n",
       "      <td>68.000000</td>\n",
       "      <td>0.094000</td>\n",
       "    </tr>\n",
       "    <tr>\n",
       "      <th>50%</th>\n",
       "      <td>4.208100e+04</td>\n",
       "      <td>358.000000</td>\n",
       "      <td>0.273000</td>\n",
       "    </tr>\n",
       "    <tr>\n",
       "      <th>75%</th>\n",
       "      <td>9.090012e+07</td>\n",
       "      <td>1375.000000</td>\n",
       "      <td>0.479000</td>\n",
       "    </tr>\n",
       "    <tr>\n",
       "      <th>max</th>\n",
       "      <td>9.560004e+07</td>\n",
       "      <td>590502.000000</td>\n",
       "      <td>1.000000</td>\n",
       "    </tr>\n",
       "  </tbody>\n",
       "</table>\n",
       "</div>"
      ],
      "text/plain": [
       "               fips          votes  fraction_votes\n",
       "count  2.451100e+04   24611.000000    24611.000000\n",
       "mean   2.667152e+07    2306.252773        0.304524\n",
       "std    4.200978e+07    9861.183572        0.231401\n",
       "min    1.001000e+03       0.000000        0.000000\n",
       "25%    2.109100e+04      68.000000        0.094000\n",
       "50%    4.208100e+04     358.000000        0.273000\n",
       "75%    9.090012e+07    1375.000000        0.479000\n",
       "max    9.560004e+07  590502.000000        1.000000"
      ]
     },
     "execution_count": 14,
     "metadata": {},
     "output_type": "execute_result"
    }
   ],
   "source": [
    "df.describe()"
   ]
  },
  {
   "cell_type": "markdown",
   "metadata": {},
   "source": [
    "# Seleccion"
   ]
  },
  {
   "cell_type": "code",
   "execution_count": 15,
   "metadata": {},
   "outputs": [
    {
     "data": {
      "text/html": [
       "<div>\n",
       "<style scoped>\n",
       "    .dataframe tbody tr th:only-of-type {\n",
       "        vertical-align: middle;\n",
       "    }\n",
       "\n",
       "    .dataframe tbody tr th {\n",
       "        vertical-align: top;\n",
       "    }\n",
       "\n",
       "    .dataframe thead th {\n",
       "        text-align: right;\n",
       "    }\n",
       "</style>\n",
       "<table border=\"1\" class=\"dataframe\">\n",
       "  <thead>\n",
       "    <tr style=\"text-align: right;\">\n",
       "      <th></th>\n",
       "      <th>state</th>\n",
       "      <th>state_abbreviation</th>\n",
       "      <th>county</th>\n",
       "      <th>fips</th>\n",
       "      <th>party</th>\n",
       "      <th>candidate</th>\n",
       "      <th>votes</th>\n",
       "      <th>fraction_votes</th>\n",
       "    </tr>\n",
       "  </thead>\n",
       "  <tbody>\n",
       "    <tr>\n",
       "      <th>0</th>\n",
       "      <td>Alabama</td>\n",
       "      <td>AL</td>\n",
       "      <td>Autauga</td>\n",
       "      <td>1001.0</td>\n",
       "      <td>Democrat</td>\n",
       "      <td>Bernie Sanders</td>\n",
       "      <td>544</td>\n",
       "      <td>0.182</td>\n",
       "    </tr>\n",
       "    <tr>\n",
       "      <th>1</th>\n",
       "      <td>Alabama</td>\n",
       "      <td>AL</td>\n",
       "      <td>Autauga</td>\n",
       "      <td>1001.0</td>\n",
       "      <td>Democrat</td>\n",
       "      <td>Hillary Clinton</td>\n",
       "      <td>2387</td>\n",
       "      <td>0.800</td>\n",
       "    </tr>\n",
       "    <tr>\n",
       "      <th>2</th>\n",
       "      <td>Alabama</td>\n",
       "      <td>AL</td>\n",
       "      <td>Baldwin</td>\n",
       "      <td>1003.0</td>\n",
       "      <td>Democrat</td>\n",
       "      <td>Bernie Sanders</td>\n",
       "      <td>2694</td>\n",
       "      <td>0.329</td>\n",
       "    </tr>\n",
       "    <tr>\n",
       "      <th>3</th>\n",
       "      <td>Alabama</td>\n",
       "      <td>AL</td>\n",
       "      <td>Baldwin</td>\n",
       "      <td>1003.0</td>\n",
       "      <td>Democrat</td>\n",
       "      <td>Hillary Clinton</td>\n",
       "      <td>5290</td>\n",
       "      <td>0.647</td>\n",
       "    </tr>\n",
       "    <tr>\n",
       "      <th>4</th>\n",
       "      <td>Alabama</td>\n",
       "      <td>AL</td>\n",
       "      <td>Barbour</td>\n",
       "      <td>1005.0</td>\n",
       "      <td>Democrat</td>\n",
       "      <td>Bernie Sanders</td>\n",
       "      <td>222</td>\n",
       "      <td>0.078</td>\n",
       "    </tr>\n",
       "  </tbody>\n",
       "</table>\n",
       "</div>"
      ],
      "text/plain": [
       "     state state_abbreviation   county    fips     party        candidate  \\\n",
       "0  Alabama                 AL  Autauga  1001.0  Democrat   Bernie Sanders   \n",
       "1  Alabama                 AL  Autauga  1001.0  Democrat  Hillary Clinton   \n",
       "2  Alabama                 AL  Baldwin  1003.0  Democrat   Bernie Sanders   \n",
       "3  Alabama                 AL  Baldwin  1003.0  Democrat  Hillary Clinton   \n",
       "4  Alabama                 AL  Barbour  1005.0  Democrat   Bernie Sanders   \n",
       "\n",
       "   votes  fraction_votes  \n",
       "0    544           0.182  \n",
       "1   2387           0.800  \n",
       "2   2694           0.329  \n",
       "3   5290           0.647  \n",
       "4    222           0.078  "
      ]
     },
     "execution_count": 15,
     "metadata": {},
     "output_type": "execute_result"
    }
   ],
   "source": [
    "df.head()"
   ]
  },
  {
   "cell_type": "markdown",
   "metadata": {},
   "source": [
    "La columna a la izquierda del state es el index. Un dataframe tiene que tener un index, que es la manera de organizar los datos."
   ]
  },
  {
   "cell_type": "code",
   "execution_count": 16,
   "metadata": {},
   "outputs": [
    {
     "data": {
      "text/plain": [
       "RangeIndex(start=0, stop=24611, step=1)"
      ]
     },
     "execution_count": 16,
     "metadata": {},
     "output_type": "execute_result"
    }
   ],
   "source": [
    "df.index"
   ]
  },
  {
   "cell_type": "markdown",
   "metadata": {},
   "source": [
    "podemos seleccionar una fila mediante su index."
   ]
  },
  {
   "cell_type": "code",
   "execution_count": 17,
   "metadata": {},
   "outputs": [
    {
     "data": {
      "text/plain": [
       "state                        Alabama\n",
       "state_abbreviation                AL\n",
       "county                       Autauga\n",
       "fips                          1001.0\n",
       "party                       Democrat\n",
       "candidate             Bernie Sanders\n",
       "votes                            544\n",
       "fraction_votes                 0.182\n",
       "Name: 0, dtype: object"
      ]
     },
     "execution_count": 17,
     "metadata": {},
     "output_type": "execute_result"
    }
   ],
   "source": [
    "df.loc[0]"
   ]
  },
  {
   "cell_type": "markdown",
   "metadata": {},
   "source": [
    "Importante, df.loc selecciona por indice, no por posición. Podemos cambiar el indice a cualquier otra cosa, otra columna o una lista separada, siempre que el nuevo indice tenga la misma longitud que el Dataframe"
   ]
  },
  {
   "cell_type": "code",
   "execution_count": 18,
   "metadata": {},
   "outputs": [],
   "source": [
    "df2 = df.set_index(\"county\")"
   ]
  },
  {
   "cell_type": "code",
   "execution_count": 19,
   "metadata": {},
   "outputs": [
    {
     "data": {
      "text/html": [
       "<div>\n",
       "<style scoped>\n",
       "    .dataframe tbody tr th:only-of-type {\n",
       "        vertical-align: middle;\n",
       "    }\n",
       "\n",
       "    .dataframe tbody tr th {\n",
       "        vertical-align: top;\n",
       "    }\n",
       "\n",
       "    .dataframe thead th {\n",
       "        text-align: right;\n",
       "    }\n",
       "</style>\n",
       "<table border=\"1\" class=\"dataframe\">\n",
       "  <thead>\n",
       "    <tr style=\"text-align: right;\">\n",
       "      <th></th>\n",
       "      <th>state</th>\n",
       "      <th>state_abbreviation</th>\n",
       "      <th>fips</th>\n",
       "      <th>party</th>\n",
       "      <th>candidate</th>\n",
       "      <th>votes</th>\n",
       "      <th>fraction_votes</th>\n",
       "    </tr>\n",
       "    <tr>\n",
       "      <th>county</th>\n",
       "      <th></th>\n",
       "      <th></th>\n",
       "      <th></th>\n",
       "      <th></th>\n",
       "      <th></th>\n",
       "      <th></th>\n",
       "      <th></th>\n",
       "    </tr>\n",
       "  </thead>\n",
       "  <tbody>\n",
       "    <tr>\n",
       "      <th>Autauga</th>\n",
       "      <td>Alabama</td>\n",
       "      <td>AL</td>\n",
       "      <td>1001.0</td>\n",
       "      <td>Democrat</td>\n",
       "      <td>Bernie Sanders</td>\n",
       "      <td>544</td>\n",
       "      <td>0.182</td>\n",
       "    </tr>\n",
       "    <tr>\n",
       "      <th>Autauga</th>\n",
       "      <td>Alabama</td>\n",
       "      <td>AL</td>\n",
       "      <td>1001.0</td>\n",
       "      <td>Democrat</td>\n",
       "      <td>Hillary Clinton</td>\n",
       "      <td>2387</td>\n",
       "      <td>0.800</td>\n",
       "    </tr>\n",
       "    <tr>\n",
       "      <th>Baldwin</th>\n",
       "      <td>Alabama</td>\n",
       "      <td>AL</td>\n",
       "      <td>1003.0</td>\n",
       "      <td>Democrat</td>\n",
       "      <td>Bernie Sanders</td>\n",
       "      <td>2694</td>\n",
       "      <td>0.329</td>\n",
       "    </tr>\n",
       "    <tr>\n",
       "      <th>Baldwin</th>\n",
       "      <td>Alabama</td>\n",
       "      <td>AL</td>\n",
       "      <td>1003.0</td>\n",
       "      <td>Democrat</td>\n",
       "      <td>Hillary Clinton</td>\n",
       "      <td>5290</td>\n",
       "      <td>0.647</td>\n",
       "    </tr>\n",
       "    <tr>\n",
       "      <th>Barbour</th>\n",
       "      <td>Alabama</td>\n",
       "      <td>AL</td>\n",
       "      <td>1005.0</td>\n",
       "      <td>Democrat</td>\n",
       "      <td>Bernie Sanders</td>\n",
       "      <td>222</td>\n",
       "      <td>0.078</td>\n",
       "    </tr>\n",
       "  </tbody>\n",
       "</table>\n",
       "</div>"
      ],
      "text/plain": [
       "           state state_abbreviation    fips     party        candidate  votes  \\\n",
       "county                                                                          \n",
       "Autauga  Alabama                 AL  1001.0  Democrat   Bernie Sanders    544   \n",
       "Autauga  Alabama                 AL  1001.0  Democrat  Hillary Clinton   2387   \n",
       "Baldwin  Alabama                 AL  1003.0  Democrat   Bernie Sanders   2694   \n",
       "Baldwin  Alabama                 AL  1003.0  Democrat  Hillary Clinton   5290   \n",
       "Barbour  Alabama                 AL  1005.0  Democrat   Bernie Sanders    222   \n",
       "\n",
       "         fraction_votes  \n",
       "county                   \n",
       "Autauga           0.182  \n",
       "Autauga           0.800  \n",
       "Baldwin           0.329  \n",
       "Baldwin           0.647  \n",
       "Barbour           0.078  "
      ]
     },
     "execution_count": 19,
     "metadata": {},
     "output_type": "execute_result"
    }
   ],
   "source": [
    "df2.head()"
   ]
  },
  {
   "cell_type": "code",
   "execution_count": 20,
   "metadata": {},
   "outputs": [
    {
     "data": {
      "text/plain": [
       "Index(['Autauga', 'Autauga', 'Baldwin', 'Baldwin', 'Barbour', 'Barbour',\n",
       "       'Bibb', 'Bibb', 'Blount', 'Blount',\n",
       "       ...\n",
       "       'Sweetwater-Carbon', 'Sweetwater-Carbon', 'Teton-Sublette',\n",
       "       'Teton-Sublette', 'Teton-Sublette', 'Teton-Sublette', 'Uinta-Lincoln',\n",
       "       'Uinta-Lincoln', 'Uinta-Lincoln', 'Uinta-Lincoln'],\n",
       "      dtype='object', name='county', length=24611)"
      ]
     },
     "execution_count": 20,
     "metadata": {},
     "output_type": "execute_result"
    }
   ],
   "source": [
    "df2.index"
   ]
  },
  {
   "cell_type": "markdown",
   "metadata": {},
   "source": [
    "Esto va a fallar por que df2 no tiene un indice numérico."
   ]
  },
  {
   "cell_type": "code",
   "execution_count": 21,
   "metadata": {
    "scrolled": true
   },
   "outputs": [
    {
     "ename": "KeyError",
     "evalue": "0",
     "output_type": "error",
     "traceback": [
      "\u001b[0;31m---------------------------------------------------------------------------\u001b[0m",
      "\u001b[0;31mKeyError\u001b[0m                                  Traceback (most recent call last)",
      "\u001b[0;32m~/miniconda3/envs/data/lib/python3.9/site-packages/pandas/core/indexes/base.py\u001b[0m in \u001b[0;36mget_loc\u001b[0;34m(self, key, method, tolerance)\u001b[0m\n\u001b[1;32m   3079\u001b[0m             \u001b[0;32mtry\u001b[0m\u001b[0;34m:\u001b[0m\u001b[0;34m\u001b[0m\u001b[0;34m\u001b[0m\u001b[0m\n\u001b[0;32m-> 3080\u001b[0;31m                 \u001b[0;32mreturn\u001b[0m \u001b[0mself\u001b[0m\u001b[0;34m.\u001b[0m\u001b[0m_engine\u001b[0m\u001b[0;34m.\u001b[0m\u001b[0mget_loc\u001b[0m\u001b[0;34m(\u001b[0m\u001b[0mcasted_key\u001b[0m\u001b[0;34m)\u001b[0m\u001b[0;34m\u001b[0m\u001b[0;34m\u001b[0m\u001b[0m\n\u001b[0m\u001b[1;32m   3081\u001b[0m             \u001b[0;32mexcept\u001b[0m \u001b[0mKeyError\u001b[0m \u001b[0;32mas\u001b[0m \u001b[0merr\u001b[0m\u001b[0;34m:\u001b[0m\u001b[0;34m\u001b[0m\u001b[0;34m\u001b[0m\u001b[0m\n",
      "\u001b[0;32mpandas/_libs/index.pyx\u001b[0m in \u001b[0;36mpandas._libs.index.IndexEngine.get_loc\u001b[0;34m()\u001b[0m\n",
      "\u001b[0;32mpandas/_libs/index.pyx\u001b[0m in \u001b[0;36mpandas._libs.index.IndexEngine.get_loc\u001b[0;34m()\u001b[0m\n",
      "\u001b[0;32mpandas/_libs/index.pyx\u001b[0m in \u001b[0;36mpandas._libs.index.IndexEngine._get_loc_duplicates\u001b[0;34m()\u001b[0m\n",
      "\u001b[0;32mpandas/_libs/index.pyx\u001b[0m in \u001b[0;36mpandas._libs.index.IndexEngine._maybe_get_bool_indexer\u001b[0;34m()\u001b[0m\n",
      "\u001b[0;32mpandas/_libs/index.pyx\u001b[0m in \u001b[0;36mpandas._libs.index.IndexEngine._unpack_bool_indexer\u001b[0;34m()\u001b[0m\n",
      "\u001b[0;31mKeyError\u001b[0m: 0",
      "\nThe above exception was the direct cause of the following exception:\n",
      "\u001b[0;31mKeyError\u001b[0m                                  Traceback (most recent call last)",
      "\u001b[0;32m<ipython-input-21-61082e79aebf>\u001b[0m in \u001b[0;36m<module>\u001b[0;34m\u001b[0m\n\u001b[0;32m----> 1\u001b[0;31m \u001b[0mdf2\u001b[0m\u001b[0;34m.\u001b[0m\u001b[0mloc\u001b[0m\u001b[0;34m[\u001b[0m\u001b[0;36m0\u001b[0m\u001b[0;34m]\u001b[0m\u001b[0;34m\u001b[0m\u001b[0;34m\u001b[0m\u001b[0m\n\u001b[0m",
      "\u001b[0;32m~/miniconda3/envs/data/lib/python3.9/site-packages/pandas/core/indexing.py\u001b[0m in \u001b[0;36m__getitem__\u001b[0;34m(self, key)\u001b[0m\n\u001b[1;32m    893\u001b[0m \u001b[0;34m\u001b[0m\u001b[0m\n\u001b[1;32m    894\u001b[0m             \u001b[0mmaybe_callable\u001b[0m \u001b[0;34m=\u001b[0m \u001b[0mcom\u001b[0m\u001b[0;34m.\u001b[0m\u001b[0mapply_if_callable\u001b[0m\u001b[0;34m(\u001b[0m\u001b[0mkey\u001b[0m\u001b[0;34m,\u001b[0m \u001b[0mself\u001b[0m\u001b[0;34m.\u001b[0m\u001b[0mobj\u001b[0m\u001b[0;34m)\u001b[0m\u001b[0;34m\u001b[0m\u001b[0;34m\u001b[0m\u001b[0m\n\u001b[0;32m--> 895\u001b[0;31m             \u001b[0;32mreturn\u001b[0m \u001b[0mself\u001b[0m\u001b[0;34m.\u001b[0m\u001b[0m_getitem_axis\u001b[0m\u001b[0;34m(\u001b[0m\u001b[0mmaybe_callable\u001b[0m\u001b[0;34m,\u001b[0m \u001b[0maxis\u001b[0m\u001b[0;34m=\u001b[0m\u001b[0maxis\u001b[0m\u001b[0;34m)\u001b[0m\u001b[0;34m\u001b[0m\u001b[0;34m\u001b[0m\u001b[0m\n\u001b[0m\u001b[1;32m    896\u001b[0m \u001b[0;34m\u001b[0m\u001b[0m\n\u001b[1;32m    897\u001b[0m     \u001b[0;32mdef\u001b[0m \u001b[0m_is_scalar_access\u001b[0m\u001b[0;34m(\u001b[0m\u001b[0mself\u001b[0m\u001b[0;34m,\u001b[0m \u001b[0mkey\u001b[0m\u001b[0;34m:\u001b[0m \u001b[0mTuple\u001b[0m\u001b[0;34m)\u001b[0m\u001b[0;34m:\u001b[0m\u001b[0;34m\u001b[0m\u001b[0;34m\u001b[0m\u001b[0m\n",
      "\u001b[0;32m~/miniconda3/envs/data/lib/python3.9/site-packages/pandas/core/indexing.py\u001b[0m in \u001b[0;36m_getitem_axis\u001b[0;34m(self, key, axis)\u001b[0m\n\u001b[1;32m   1122\u001b[0m         \u001b[0;31m# fall thru to straight lookup\u001b[0m\u001b[0;34m\u001b[0m\u001b[0;34m\u001b[0m\u001b[0;34m\u001b[0m\u001b[0m\n\u001b[1;32m   1123\u001b[0m         \u001b[0mself\u001b[0m\u001b[0;34m.\u001b[0m\u001b[0m_validate_key\u001b[0m\u001b[0;34m(\u001b[0m\u001b[0mkey\u001b[0m\u001b[0;34m,\u001b[0m \u001b[0maxis\u001b[0m\u001b[0;34m)\u001b[0m\u001b[0;34m\u001b[0m\u001b[0;34m\u001b[0m\u001b[0m\n\u001b[0;32m-> 1124\u001b[0;31m         \u001b[0;32mreturn\u001b[0m \u001b[0mself\u001b[0m\u001b[0;34m.\u001b[0m\u001b[0m_get_label\u001b[0m\u001b[0;34m(\u001b[0m\u001b[0mkey\u001b[0m\u001b[0;34m,\u001b[0m \u001b[0maxis\u001b[0m\u001b[0;34m=\u001b[0m\u001b[0maxis\u001b[0m\u001b[0;34m)\u001b[0m\u001b[0;34m\u001b[0m\u001b[0;34m\u001b[0m\u001b[0m\n\u001b[0m\u001b[1;32m   1125\u001b[0m \u001b[0;34m\u001b[0m\u001b[0m\n\u001b[1;32m   1126\u001b[0m     \u001b[0;32mdef\u001b[0m \u001b[0m_get_slice_axis\u001b[0m\u001b[0;34m(\u001b[0m\u001b[0mself\u001b[0m\u001b[0;34m,\u001b[0m \u001b[0mslice_obj\u001b[0m\u001b[0;34m:\u001b[0m \u001b[0mslice\u001b[0m\u001b[0;34m,\u001b[0m \u001b[0maxis\u001b[0m\u001b[0;34m:\u001b[0m \u001b[0mint\u001b[0m\u001b[0;34m)\u001b[0m\u001b[0;34m:\u001b[0m\u001b[0;34m\u001b[0m\u001b[0;34m\u001b[0m\u001b[0m\n",
      "\u001b[0;32m~/miniconda3/envs/data/lib/python3.9/site-packages/pandas/core/indexing.py\u001b[0m in \u001b[0;36m_get_label\u001b[0;34m(self, label, axis)\u001b[0m\n\u001b[1;32m   1071\u001b[0m     \u001b[0;32mdef\u001b[0m \u001b[0m_get_label\u001b[0m\u001b[0;34m(\u001b[0m\u001b[0mself\u001b[0m\u001b[0;34m,\u001b[0m \u001b[0mlabel\u001b[0m\u001b[0;34m,\u001b[0m \u001b[0maxis\u001b[0m\u001b[0;34m:\u001b[0m \u001b[0mint\u001b[0m\u001b[0;34m)\u001b[0m\u001b[0;34m:\u001b[0m\u001b[0;34m\u001b[0m\u001b[0;34m\u001b[0m\u001b[0m\n\u001b[1;32m   1072\u001b[0m         \u001b[0;31m# GH#5667 this will fail if the label is not present in the axis.\u001b[0m\u001b[0;34m\u001b[0m\u001b[0;34m\u001b[0m\u001b[0;34m\u001b[0m\u001b[0m\n\u001b[0;32m-> 1073\u001b[0;31m         \u001b[0;32mreturn\u001b[0m \u001b[0mself\u001b[0m\u001b[0;34m.\u001b[0m\u001b[0mobj\u001b[0m\u001b[0;34m.\u001b[0m\u001b[0mxs\u001b[0m\u001b[0;34m(\u001b[0m\u001b[0mlabel\u001b[0m\u001b[0;34m,\u001b[0m \u001b[0maxis\u001b[0m\u001b[0;34m=\u001b[0m\u001b[0maxis\u001b[0m\u001b[0;34m)\u001b[0m\u001b[0;34m\u001b[0m\u001b[0;34m\u001b[0m\u001b[0m\n\u001b[0m\u001b[1;32m   1074\u001b[0m \u001b[0;34m\u001b[0m\u001b[0m\n\u001b[1;32m   1075\u001b[0m     \u001b[0;32mdef\u001b[0m \u001b[0m_handle_lowerdim_multi_index_axis0\u001b[0m\u001b[0;34m(\u001b[0m\u001b[0mself\u001b[0m\u001b[0;34m,\u001b[0m \u001b[0mtup\u001b[0m\u001b[0;34m:\u001b[0m \u001b[0mTuple\u001b[0m\u001b[0;34m)\u001b[0m\u001b[0;34m:\u001b[0m\u001b[0;34m\u001b[0m\u001b[0;34m\u001b[0m\u001b[0m\n",
      "\u001b[0;32m~/miniconda3/envs/data/lib/python3.9/site-packages/pandas/core/generic.py\u001b[0m in \u001b[0;36mxs\u001b[0;34m(self, key, axis, level, drop_level)\u001b[0m\n\u001b[1;32m   3737\u001b[0m                 \u001b[0;32mraise\u001b[0m \u001b[0mTypeError\u001b[0m\u001b[0;34m(\u001b[0m\u001b[0;34mf\"Expected label or tuple of labels, got {key}\"\u001b[0m\u001b[0;34m)\u001b[0m \u001b[0;32mfrom\u001b[0m \u001b[0me\u001b[0m\u001b[0;34m\u001b[0m\u001b[0;34m\u001b[0m\u001b[0m\n\u001b[1;32m   3738\u001b[0m         \u001b[0;32melse\u001b[0m\u001b[0;34m:\u001b[0m\u001b[0;34m\u001b[0m\u001b[0;34m\u001b[0m\u001b[0m\n\u001b[0;32m-> 3739\u001b[0;31m             \u001b[0mloc\u001b[0m \u001b[0;34m=\u001b[0m \u001b[0mindex\u001b[0m\u001b[0;34m.\u001b[0m\u001b[0mget_loc\u001b[0m\u001b[0;34m(\u001b[0m\u001b[0mkey\u001b[0m\u001b[0;34m)\u001b[0m\u001b[0;34m\u001b[0m\u001b[0;34m\u001b[0m\u001b[0m\n\u001b[0m\u001b[1;32m   3740\u001b[0m \u001b[0;34m\u001b[0m\u001b[0m\n\u001b[1;32m   3741\u001b[0m             \u001b[0;32mif\u001b[0m \u001b[0misinstance\u001b[0m\u001b[0;34m(\u001b[0m\u001b[0mloc\u001b[0m\u001b[0;34m,\u001b[0m \u001b[0mnp\u001b[0m\u001b[0;34m.\u001b[0m\u001b[0mndarray\u001b[0m\u001b[0;34m)\u001b[0m\u001b[0;34m:\u001b[0m\u001b[0;34m\u001b[0m\u001b[0;34m\u001b[0m\u001b[0m\n",
      "\u001b[0;32m~/miniconda3/envs/data/lib/python3.9/site-packages/pandas/core/indexes/base.py\u001b[0m in \u001b[0;36mget_loc\u001b[0;34m(self, key, method, tolerance)\u001b[0m\n\u001b[1;32m   3080\u001b[0m                 \u001b[0;32mreturn\u001b[0m \u001b[0mself\u001b[0m\u001b[0;34m.\u001b[0m\u001b[0m_engine\u001b[0m\u001b[0;34m.\u001b[0m\u001b[0mget_loc\u001b[0m\u001b[0;34m(\u001b[0m\u001b[0mcasted_key\u001b[0m\u001b[0;34m)\u001b[0m\u001b[0;34m\u001b[0m\u001b[0;34m\u001b[0m\u001b[0m\n\u001b[1;32m   3081\u001b[0m             \u001b[0;32mexcept\u001b[0m \u001b[0mKeyError\u001b[0m \u001b[0;32mas\u001b[0m \u001b[0merr\u001b[0m\u001b[0;34m:\u001b[0m\u001b[0;34m\u001b[0m\u001b[0;34m\u001b[0m\u001b[0m\n\u001b[0;32m-> 3082\u001b[0;31m                 \u001b[0;32mraise\u001b[0m \u001b[0mKeyError\u001b[0m\u001b[0;34m(\u001b[0m\u001b[0mkey\u001b[0m\u001b[0;34m)\u001b[0m \u001b[0;32mfrom\u001b[0m \u001b[0merr\u001b[0m\u001b[0;34m\u001b[0m\u001b[0;34m\u001b[0m\u001b[0m\n\u001b[0m\u001b[1;32m   3083\u001b[0m \u001b[0;34m\u001b[0m\u001b[0m\n\u001b[1;32m   3084\u001b[0m         \u001b[0;32mif\u001b[0m \u001b[0mtolerance\u001b[0m \u001b[0;32mis\u001b[0m \u001b[0;32mnot\u001b[0m \u001b[0;32mNone\u001b[0m\u001b[0;34m:\u001b[0m\u001b[0;34m\u001b[0m\u001b[0;34m\u001b[0m\u001b[0m\n",
      "\u001b[0;31mKeyError\u001b[0m: 0"
     ]
    }
   ],
   "source": [
    "df2.loc[0]"
   ]
  },
  {
   "cell_type": "markdown",
   "metadata": {},
   "source": [
    "Ahora podemos seleccionar por condado"
   ]
  },
  {
   "cell_type": "code",
   "execution_count": 22,
   "metadata": {},
   "outputs": [
    {
     "data": {
      "text/html": [
       "<div>\n",
       "<style scoped>\n",
       "    .dataframe tbody tr th:only-of-type {\n",
       "        vertical-align: middle;\n",
       "    }\n",
       "\n",
       "    .dataframe tbody tr th {\n",
       "        vertical-align: top;\n",
       "    }\n",
       "\n",
       "    .dataframe thead th {\n",
       "        text-align: right;\n",
       "    }\n",
       "</style>\n",
       "<table border=\"1\" class=\"dataframe\">\n",
       "  <thead>\n",
       "    <tr style=\"text-align: right;\">\n",
       "      <th></th>\n",
       "      <th>state</th>\n",
       "      <th>state_abbreviation</th>\n",
       "      <th>fips</th>\n",
       "      <th>party</th>\n",
       "      <th>candidate</th>\n",
       "      <th>votes</th>\n",
       "      <th>fraction_votes</th>\n",
       "    </tr>\n",
       "    <tr>\n",
       "      <th>county</th>\n",
       "      <th></th>\n",
       "      <th></th>\n",
       "      <th></th>\n",
       "      <th></th>\n",
       "      <th></th>\n",
       "      <th></th>\n",
       "      <th></th>\n",
       "    </tr>\n",
       "  </thead>\n",
       "  <tbody>\n",
       "    <tr>\n",
       "      <th>Los Angeles</th>\n",
       "      <td>California</td>\n",
       "      <td>CA</td>\n",
       "      <td>6037.0</td>\n",
       "      <td>Democrat</td>\n",
       "      <td>Bernie Sanders</td>\n",
       "      <td>434656</td>\n",
       "      <td>0.420</td>\n",
       "    </tr>\n",
       "    <tr>\n",
       "      <th>Los Angeles</th>\n",
       "      <td>California</td>\n",
       "      <td>CA</td>\n",
       "      <td>6037.0</td>\n",
       "      <td>Democrat</td>\n",
       "      <td>Hillary Clinton</td>\n",
       "      <td>590502</td>\n",
       "      <td>0.570</td>\n",
       "    </tr>\n",
       "    <tr>\n",
       "      <th>Los Angeles</th>\n",
       "      <td>California</td>\n",
       "      <td>CA</td>\n",
       "      <td>6037.0</td>\n",
       "      <td>Republican</td>\n",
       "      <td>Donald Trump</td>\n",
       "      <td>179130</td>\n",
       "      <td>0.698</td>\n",
       "    </tr>\n",
       "    <tr>\n",
       "      <th>Los Angeles</th>\n",
       "      <td>California</td>\n",
       "      <td>CA</td>\n",
       "      <td>6037.0</td>\n",
       "      <td>Republican</td>\n",
       "      <td>John Kasich</td>\n",
       "      <td>33559</td>\n",
       "      <td>0.131</td>\n",
       "    </tr>\n",
       "    <tr>\n",
       "      <th>Los Angeles</th>\n",
       "      <td>California</td>\n",
       "      <td>CA</td>\n",
       "      <td>6037.0</td>\n",
       "      <td>Republican</td>\n",
       "      <td>Ted Cruz</td>\n",
       "      <td>30775</td>\n",
       "      <td>0.120</td>\n",
       "    </tr>\n",
       "  </tbody>\n",
       "</table>\n",
       "</div>"
      ],
      "text/plain": [
       "                  state state_abbreviation    fips       party  \\\n",
       "county                                                           \n",
       "Los Angeles  California                 CA  6037.0    Democrat   \n",
       "Los Angeles  California                 CA  6037.0    Democrat   \n",
       "Los Angeles  California                 CA  6037.0  Republican   \n",
       "Los Angeles  California                 CA  6037.0  Republican   \n",
       "Los Angeles  California                 CA  6037.0  Republican   \n",
       "\n",
       "                   candidate   votes  fraction_votes  \n",
       "county                                                \n",
       "Los Angeles   Bernie Sanders  434656           0.420  \n",
       "Los Angeles  Hillary Clinton  590502           0.570  \n",
       "Los Angeles     Donald Trump  179130           0.698  \n",
       "Los Angeles      John Kasich   33559           0.131  \n",
       "Los Angeles         Ted Cruz   30775           0.120  "
      ]
     },
     "execution_count": 22,
     "metadata": {},
     "output_type": "execute_result"
    }
   ],
   "source": [
    "df2.loc[\"Los Angeles\"]"
   ]
  },
  {
   "cell_type": "markdown",
   "metadata": {},
   "source": [
    "Si queremos seleccionar por el numero de fila independientemente del índice, podemos usar `iloc`"
   ]
  },
  {
   "cell_type": "code",
   "execution_count": 23,
   "metadata": {},
   "outputs": [
    {
     "data": {
      "text/plain": [
       "state                        Alabama\n",
       "state_abbreviation                AL\n",
       "fips                          1001.0\n",
       "party                       Democrat\n",
       "candidate             Bernie Sanders\n",
       "votes                            544\n",
       "fraction_votes                 0.182\n",
       "Name: Autauga, dtype: object"
      ]
     },
     "execution_count": 23,
     "metadata": {},
     "output_type": "execute_result"
    }
   ],
   "source": [
    "df2.iloc[0]"
   ]
  },
  {
   "cell_type": "markdown",
   "metadata": {},
   "source": [
    "Seleccionamos una columna mediante '[]' como si el dataframe fuese un diccionario"
   ]
  },
  {
   "cell_type": "code",
   "execution_count": 24,
   "metadata": {},
   "outputs": [
    {
     "data": {
      "text/plain": [
       "0    Alabama\n",
       "1    Alabama\n",
       "2    Alabama\n",
       "3    Alabama\n",
       "4    Alabama\n",
       "5    Alabama\n",
       "6    Alabama\n",
       "7    Alabama\n",
       "8    Alabama\n",
       "9    Alabama\n",
       "Name: state, dtype: object"
      ]
     },
     "execution_count": 24,
     "metadata": {},
     "output_type": "execute_result"
    }
   ],
   "source": [
    "df[\"state\"][:10]"
   ]
  },
  {
   "cell_type": "markdown",
   "metadata": {},
   "source": [
    "si la columna tiene sintaxis  valida (sin espacios), se puede acceder como atributo siempre y cuando dicho atributo no exista en el dataframe"
   ]
  },
  {
   "cell_type": "code",
   "execution_count": 25,
   "metadata": {},
   "outputs": [
    {
     "data": {
      "text/plain": [
       "0    Alabama\n",
       "1    Alabama\n",
       "2    Alabama\n",
       "3    Alabama\n",
       "4    Alabama\n",
       "5    Alabama\n",
       "6    Alabama\n",
       "7    Alabama\n",
       "8    Alabama\n",
       "9    Alabama\n",
       "Name: state, dtype: object"
      ]
     },
     "execution_count": 25,
     "metadata": {},
     "output_type": "execute_result"
    }
   ],
   "source": [
    "df.state[:10]"
   ]
  },
  {
   "cell_type": "markdown",
   "metadata": {},
   "source": [
    "por ejemplo, si creamos una columna nueva de nombre `shape` (que ya es un atributo del dataframe), solo podemos acceder a dicha columna como si fuese un diccionario"
   ]
  },
  {
   "cell_type": "code",
   "execution_count": 26,
   "metadata": {},
   "outputs": [
    {
     "data": {
      "text/html": [
       "<div>\n",
       "<style scoped>\n",
       "    .dataframe tbody tr th:only-of-type {\n",
       "        vertical-align: middle;\n",
       "    }\n",
       "\n",
       "    .dataframe tbody tr th {\n",
       "        vertical-align: top;\n",
       "    }\n",
       "\n",
       "    .dataframe thead th {\n",
       "        text-align: right;\n",
       "    }\n",
       "</style>\n",
       "<table border=\"1\" class=\"dataframe\">\n",
       "  <thead>\n",
       "    <tr style=\"text-align: right;\">\n",
       "      <th></th>\n",
       "      <th>state</th>\n",
       "      <th>state_abbreviation</th>\n",
       "      <th>county</th>\n",
       "      <th>fips</th>\n",
       "      <th>party</th>\n",
       "      <th>candidate</th>\n",
       "      <th>votes</th>\n",
       "      <th>fraction_votes</th>\n",
       "      <th>shape</th>\n",
       "    </tr>\n",
       "  </thead>\n",
       "  <tbody>\n",
       "    <tr>\n",
       "      <th>0</th>\n",
       "      <td>Alabama</td>\n",
       "      <td>AL</td>\n",
       "      <td>Autauga</td>\n",
       "      <td>1001.0</td>\n",
       "      <td>Democrat</td>\n",
       "      <td>Bernie Sanders</td>\n",
       "      <td>544</td>\n",
       "      <td>0.182</td>\n",
       "      <td>1</td>\n",
       "    </tr>\n",
       "    <tr>\n",
       "      <th>1</th>\n",
       "      <td>Alabama</td>\n",
       "      <td>AL</td>\n",
       "      <td>Autauga</td>\n",
       "      <td>1001.0</td>\n",
       "      <td>Democrat</td>\n",
       "      <td>Hillary Clinton</td>\n",
       "      <td>2387</td>\n",
       "      <td>0.800</td>\n",
       "      <td>1</td>\n",
       "    </tr>\n",
       "    <tr>\n",
       "      <th>2</th>\n",
       "      <td>Alabama</td>\n",
       "      <td>AL</td>\n",
       "      <td>Baldwin</td>\n",
       "      <td>1003.0</td>\n",
       "      <td>Democrat</td>\n",
       "      <td>Bernie Sanders</td>\n",
       "      <td>2694</td>\n",
       "      <td>0.329</td>\n",
       "      <td>1</td>\n",
       "    </tr>\n",
       "    <tr>\n",
       "      <th>3</th>\n",
       "      <td>Alabama</td>\n",
       "      <td>AL</td>\n",
       "      <td>Baldwin</td>\n",
       "      <td>1003.0</td>\n",
       "      <td>Democrat</td>\n",
       "      <td>Hillary Clinton</td>\n",
       "      <td>5290</td>\n",
       "      <td>0.647</td>\n",
       "      <td>1</td>\n",
       "    </tr>\n",
       "    <tr>\n",
       "      <th>4</th>\n",
       "      <td>Alabama</td>\n",
       "      <td>AL</td>\n",
       "      <td>Barbour</td>\n",
       "      <td>1005.0</td>\n",
       "      <td>Democrat</td>\n",
       "      <td>Bernie Sanders</td>\n",
       "      <td>222</td>\n",
       "      <td>0.078</td>\n",
       "      <td>1</td>\n",
       "    </tr>\n",
       "  </tbody>\n",
       "</table>\n",
       "</div>"
      ],
      "text/plain": [
       "     state state_abbreviation   county    fips     party        candidate  \\\n",
       "0  Alabama                 AL  Autauga  1001.0  Democrat   Bernie Sanders   \n",
       "1  Alabama                 AL  Autauga  1001.0  Democrat  Hillary Clinton   \n",
       "2  Alabama                 AL  Baldwin  1003.0  Democrat   Bernie Sanders   \n",
       "3  Alabama                 AL  Baldwin  1003.0  Democrat  Hillary Clinton   \n",
       "4  Alabama                 AL  Barbour  1005.0  Democrat   Bernie Sanders   \n",
       "\n",
       "   votes  fraction_votes  shape  \n",
       "0    544           0.182      1  \n",
       "1   2387           0.800      1  \n",
       "2   2694           0.329      1  \n",
       "3   5290           0.647      1  \n",
       "4    222           0.078      1  "
      ]
     },
     "execution_count": 26,
     "metadata": {},
     "output_type": "execute_result"
    }
   ],
   "source": [
    "df[\"shape\"] = 1\n",
    "df.head()"
   ]
  },
  {
   "cell_type": "code",
   "execution_count": 27,
   "metadata": {},
   "outputs": [
    {
     "data": {
      "text/plain": [
       "(24611, 9)"
      ]
     },
     "execution_count": 27,
     "metadata": {},
     "output_type": "execute_result"
    }
   ],
   "source": [
    "df.shape"
   ]
  },
  {
   "cell_type": "markdown",
   "metadata": {},
   "source": [
    "Si seleccionamos una columna, obtenemos una Serie, si seleccionamos dos o más, obtenemos un dataframe."
   ]
  },
  {
   "cell_type": "code",
   "execution_count": 28,
   "metadata": {},
   "outputs": [
    {
     "data": {
      "text/plain": [
       "pandas.core.series.Series"
      ]
     },
     "execution_count": 28,
     "metadata": {},
     "output_type": "execute_result"
    }
   ],
   "source": [
    "type(df['county'])"
   ]
  },
  {
   "cell_type": "code",
   "execution_count": 29,
   "metadata": {},
   "outputs": [
    {
     "data": {
      "text/plain": [
       "pandas.core.frame.DataFrame"
      ]
     },
     "execution_count": 29,
     "metadata": {},
     "output_type": "execute_result"
    }
   ],
   "source": [
    "type(df[[\"county\", \"candidate\"]])"
   ]
  },
  {
   "cell_type": "markdown",
   "metadata": {},
   "source": [
    "Podemos filtrar un dataframe de la misma forma que filtramos en numpy"
   ]
  },
  {
   "cell_type": "code",
   "execution_count": 30,
   "metadata": {},
   "outputs": [
    {
     "data": {
      "text/html": [
       "<div>\n",
       "<style scoped>\n",
       "    .dataframe tbody tr th:only-of-type {\n",
       "        vertical-align: middle;\n",
       "    }\n",
       "\n",
       "    .dataframe tbody tr th {\n",
       "        vertical-align: top;\n",
       "    }\n",
       "\n",
       "    .dataframe thead th {\n",
       "        text-align: right;\n",
       "    }\n",
       "</style>\n",
       "<table border=\"1\" class=\"dataframe\">\n",
       "  <thead>\n",
       "    <tr style=\"text-align: right;\">\n",
       "      <th></th>\n",
       "      <th>state</th>\n",
       "      <th>state_abbreviation</th>\n",
       "      <th>county</th>\n",
       "      <th>fips</th>\n",
       "      <th>party</th>\n",
       "      <th>candidate</th>\n",
       "      <th>votes</th>\n",
       "      <th>fraction_votes</th>\n",
       "      <th>shape</th>\n",
       "    </tr>\n",
       "  </thead>\n",
       "  <tbody>\n",
       "    <tr>\n",
       "      <th>1386</th>\n",
       "      <td>California</td>\n",
       "      <td>CA</td>\n",
       "      <td>Los Angeles</td>\n",
       "      <td>6037.0</td>\n",
       "      <td>Democrat</td>\n",
       "      <td>Hillary Clinton</td>\n",
       "      <td>590502</td>\n",
       "      <td>0.57</td>\n",
       "      <td>1</td>\n",
       "    </tr>\n",
       "  </tbody>\n",
       "</table>\n",
       "</div>"
      ],
      "text/plain": [
       "           state state_abbreviation       county    fips     party  \\\n",
       "1386  California                 CA  Los Angeles  6037.0  Democrat   \n",
       "\n",
       "            candidate   votes  fraction_votes  shape  \n",
       "1386  Hillary Clinton  590502            0.57      1  "
      ]
     },
     "execution_count": 30,
     "metadata": {},
     "output_type": "execute_result"
    }
   ],
   "source": [
    "df[df.votes>=590502]"
   ]
  },
  {
   "cell_type": "markdown",
   "metadata": {},
   "source": [
    "podemos concatenar varias condiciones usando `&`"
   ]
  },
  {
   "cell_type": "code",
   "execution_count": 31,
   "metadata": {},
   "outputs": [
    {
     "data": {
      "text/html": [
       "<div>\n",
       "<style scoped>\n",
       "    .dataframe tbody tr th:only-of-type {\n",
       "        vertical-align: middle;\n",
       "    }\n",
       "\n",
       "    .dataframe tbody tr th {\n",
       "        vertical-align: top;\n",
       "    }\n",
       "\n",
       "    .dataframe thead th {\n",
       "        text-align: right;\n",
       "    }\n",
       "</style>\n",
       "<table border=\"1\" class=\"dataframe\">\n",
       "  <thead>\n",
       "    <tr style=\"text-align: right;\">\n",
       "      <th></th>\n",
       "      <th>state</th>\n",
       "      <th>state_abbreviation</th>\n",
       "      <th>county</th>\n",
       "      <th>fips</th>\n",
       "      <th>party</th>\n",
       "      <th>candidate</th>\n",
       "      <th>votes</th>\n",
       "      <th>fraction_votes</th>\n",
       "      <th>shape</th>\n",
       "    </tr>\n",
       "  </thead>\n",
       "  <tbody>\n",
       "    <tr>\n",
       "      <th>15011</th>\n",
       "      <td>New York</td>\n",
       "      <td>NY</td>\n",
       "      <td>Manhattan</td>\n",
       "      <td>36061.0</td>\n",
       "      <td>Democrat</td>\n",
       "      <td>Bernie Sanders</td>\n",
       "      <td>90227</td>\n",
       "      <td>0.337</td>\n",
       "      <td>1</td>\n",
       "    </tr>\n",
       "    <tr>\n",
       "      <th>15012</th>\n",
       "      <td>New York</td>\n",
       "      <td>NY</td>\n",
       "      <td>Manhattan</td>\n",
       "      <td>36061.0</td>\n",
       "      <td>Democrat</td>\n",
       "      <td>Hillary Clinton</td>\n",
       "      <td>177496</td>\n",
       "      <td>0.663</td>\n",
       "      <td>1</td>\n",
       "    </tr>\n",
       "  </tbody>\n",
       "</table>\n",
       "</div>"
      ],
      "text/plain": [
       "          state state_abbreviation     county     fips     party  \\\n",
       "15011  New York                 NY  Manhattan  36061.0  Democrat   \n",
       "15012  New York                 NY  Manhattan  36061.0  Democrat   \n",
       "\n",
       "             candidate   votes  fraction_votes  shape  \n",
       "15011   Bernie Sanders   90227           0.337      1  \n",
       "15012  Hillary Clinton  177496           0.663      1  "
      ]
     },
     "execution_count": 31,
     "metadata": {},
     "output_type": "execute_result"
    }
   ],
   "source": [
    "df[(df.county==\"Manhattan\") & (df.party==\"Democrat\")]"
   ]
  },
  {
   "cell_type": "markdown",
   "metadata": {},
   "source": [
    "alternativamente podemos usar el método `query`"
   ]
  },
  {
   "cell_type": "code",
   "execution_count": 32,
   "metadata": {},
   "outputs": [
    {
     "data": {
      "text/html": [
       "<div>\n",
       "<style scoped>\n",
       "    .dataframe tbody tr th:only-of-type {\n",
       "        vertical-align: middle;\n",
       "    }\n",
       "\n",
       "    .dataframe tbody tr th {\n",
       "        vertical-align: top;\n",
       "    }\n",
       "\n",
       "    .dataframe thead th {\n",
       "        text-align: right;\n",
       "    }\n",
       "</style>\n",
       "<table border=\"1\" class=\"dataframe\">\n",
       "  <thead>\n",
       "    <tr style=\"text-align: right;\">\n",
       "      <th></th>\n",
       "      <th>state</th>\n",
       "      <th>state_abbreviation</th>\n",
       "      <th>county</th>\n",
       "      <th>fips</th>\n",
       "      <th>party</th>\n",
       "      <th>candidate</th>\n",
       "      <th>votes</th>\n",
       "      <th>fraction_votes</th>\n",
       "      <th>shape</th>\n",
       "    </tr>\n",
       "  </thead>\n",
       "  <tbody>\n",
       "    <tr>\n",
       "      <th>15011</th>\n",
       "      <td>New York</td>\n",
       "      <td>NY</td>\n",
       "      <td>Manhattan</td>\n",
       "      <td>36061.0</td>\n",
       "      <td>Democrat</td>\n",
       "      <td>Bernie Sanders</td>\n",
       "      <td>90227</td>\n",
       "      <td>0.337</td>\n",
       "      <td>1</td>\n",
       "    </tr>\n",
       "    <tr>\n",
       "      <th>15012</th>\n",
       "      <td>New York</td>\n",
       "      <td>NY</td>\n",
       "      <td>Manhattan</td>\n",
       "      <td>36061.0</td>\n",
       "      <td>Democrat</td>\n",
       "      <td>Hillary Clinton</td>\n",
       "      <td>177496</td>\n",
       "      <td>0.663</td>\n",
       "      <td>1</td>\n",
       "    </tr>\n",
       "  </tbody>\n",
       "</table>\n",
       "</div>"
      ],
      "text/plain": [
       "          state state_abbreviation     county     fips     party  \\\n",
       "15011  New York                 NY  Manhattan  36061.0  Democrat   \n",
       "15012  New York                 NY  Manhattan  36061.0  Democrat   \n",
       "\n",
       "             candidate   votes  fraction_votes  shape  \n",
       "15011   Bernie Sanders   90227           0.337      1  \n",
       "15012  Hillary Clinton  177496           0.663      1  "
      ]
     },
     "execution_count": 32,
     "metadata": {},
     "output_type": "execute_result"
    }
   ],
   "source": [
    "df.query(\"county=='Manhattan' and party=='Democrat'\")"
   ]
  },
  {
   "cell_type": "code",
   "execution_count": 33,
   "metadata": {},
   "outputs": [
    {
     "data": {
      "text/html": [
       "<div>\n",
       "<style scoped>\n",
       "    .dataframe tbody tr th:only-of-type {\n",
       "        vertical-align: middle;\n",
       "    }\n",
       "\n",
       "    .dataframe tbody tr th {\n",
       "        vertical-align: top;\n",
       "    }\n",
       "\n",
       "    .dataframe thead th {\n",
       "        text-align: right;\n",
       "    }\n",
       "</style>\n",
       "<table border=\"1\" class=\"dataframe\">\n",
       "  <thead>\n",
       "    <tr style=\"text-align: right;\">\n",
       "      <th></th>\n",
       "      <th>state</th>\n",
       "      <th>state_abbreviation</th>\n",
       "      <th>county</th>\n",
       "      <th>fips</th>\n",
       "      <th>party</th>\n",
       "      <th>candidate</th>\n",
       "      <th>votes</th>\n",
       "      <th>fraction_votes</th>\n",
       "      <th>shape</th>\n",
       "    </tr>\n",
       "  </thead>\n",
       "  <tbody>\n",
       "    <tr>\n",
       "      <th>15011</th>\n",
       "      <td>New York</td>\n",
       "      <td>NY</td>\n",
       "      <td>Manhattan</td>\n",
       "      <td>36061.0</td>\n",
       "      <td>Democrat</td>\n",
       "      <td>Bernie Sanders</td>\n",
       "      <td>90227</td>\n",
       "      <td>0.337</td>\n",
       "      <td>1</td>\n",
       "    </tr>\n",
       "    <tr>\n",
       "      <th>15012</th>\n",
       "      <td>New York</td>\n",
       "      <td>NY</td>\n",
       "      <td>Manhattan</td>\n",
       "      <td>36061.0</td>\n",
       "      <td>Democrat</td>\n",
       "      <td>Hillary Clinton</td>\n",
       "      <td>177496</td>\n",
       "      <td>0.663</td>\n",
       "      <td>1</td>\n",
       "    </tr>\n",
       "  </tbody>\n",
       "</table>\n",
       "</div>"
      ],
      "text/plain": [
       "          state state_abbreviation     county     fips     party  \\\n",
       "15011  New York                 NY  Manhattan  36061.0  Democrat   \n",
       "15012  New York                 NY  Manhattan  36061.0  Democrat   \n",
       "\n",
       "             candidate   votes  fraction_votes  shape  \n",
       "15011   Bernie Sanders   90227           0.337      1  \n",
       "15012  Hillary Clinton  177496           0.663      1  "
      ]
     },
     "execution_count": 33,
     "metadata": {},
     "output_type": "execute_result"
    }
   ],
   "source": [
    "county = 'Manhattan'\n",
    "df.query(\"county==@county and party=='Democrat'\")"
   ]
  },
  {
   "cell_type": "markdown",
   "metadata": {},
   "source": [
    "# Procesado"
   ]
  },
  {
   "cell_type": "markdown",
   "metadata": {},
   "source": [
    "podemos usar `sort_values` para orderar el dataframe acorde al valor de una columna"
   ]
  },
  {
   "cell_type": "code",
   "execution_count": 34,
   "metadata": {},
   "outputs": [
    {
     "data": {
      "text/html": [
       "<div>\n",
       "<style scoped>\n",
       "    .dataframe tbody tr th:only-of-type {\n",
       "        vertical-align: middle;\n",
       "    }\n",
       "\n",
       "    .dataframe tbody tr th {\n",
       "        vertical-align: top;\n",
       "    }\n",
       "\n",
       "    .dataframe thead th {\n",
       "        text-align: right;\n",
       "    }\n",
       "</style>\n",
       "<table border=\"1\" class=\"dataframe\">\n",
       "  <thead>\n",
       "    <tr style=\"text-align: right;\">\n",
       "      <th></th>\n",
       "      <th>state</th>\n",
       "      <th>state_abbreviation</th>\n",
       "      <th>county</th>\n",
       "      <th>fips</th>\n",
       "      <th>party</th>\n",
       "      <th>candidate</th>\n",
       "      <th>votes</th>\n",
       "      <th>fraction_votes</th>\n",
       "      <th>shape</th>\n",
       "    </tr>\n",
       "  </thead>\n",
       "  <tbody>\n",
       "    <tr>\n",
       "      <th>1386</th>\n",
       "      <td>California</td>\n",
       "      <td>CA</td>\n",
       "      <td>Los Angeles</td>\n",
       "      <td>6037.0</td>\n",
       "      <td>Democrat</td>\n",
       "      <td>Hillary Clinton</td>\n",
       "      <td>590502</td>\n",
       "      <td>0.570</td>\n",
       "      <td>1</td>\n",
       "    </tr>\n",
       "    <tr>\n",
       "      <th>1385</th>\n",
       "      <td>California</td>\n",
       "      <td>CA</td>\n",
       "      <td>Los Angeles</td>\n",
       "      <td>6037.0</td>\n",
       "      <td>Democrat</td>\n",
       "      <td>Bernie Sanders</td>\n",
       "      <td>434656</td>\n",
       "      <td>0.420</td>\n",
       "      <td>1</td>\n",
       "    </tr>\n",
       "    <tr>\n",
       "      <th>4451</th>\n",
       "      <td>Illinois</td>\n",
       "      <td>IL</td>\n",
       "      <td>Chicago</td>\n",
       "      <td>91700103.0</td>\n",
       "      <td>Democrat</td>\n",
       "      <td>Hillary Clinton</td>\n",
       "      <td>366954</td>\n",
       "      <td>0.536</td>\n",
       "      <td>1</td>\n",
       "    </tr>\n",
       "    <tr>\n",
       "      <th>4450</th>\n",
       "      <td>Illinois</td>\n",
       "      <td>IL</td>\n",
       "      <td>Chicago</td>\n",
       "      <td>91700103.0</td>\n",
       "      <td>Democrat</td>\n",
       "      <td>Bernie Sanders</td>\n",
       "      <td>311225</td>\n",
       "      <td>0.454</td>\n",
       "      <td>1</td>\n",
       "    </tr>\n",
       "    <tr>\n",
       "      <th>4463</th>\n",
       "      <td>Illinois</td>\n",
       "      <td>IL</td>\n",
       "      <td>Cook Suburbs</td>\n",
       "      <td>91700104.0</td>\n",
       "      <td>Democrat</td>\n",
       "      <td>Hillary Clinton</td>\n",
       "      <td>249217</td>\n",
       "      <td>0.536</td>\n",
       "      <td>1</td>\n",
       "    </tr>\n",
       "  </tbody>\n",
       "</table>\n",
       "</div>"
      ],
      "text/plain": [
       "           state state_abbreviation        county        fips     party  \\\n",
       "1386  California                 CA   Los Angeles      6037.0  Democrat   \n",
       "1385  California                 CA   Los Angeles      6037.0  Democrat   \n",
       "4451    Illinois                 IL       Chicago  91700103.0  Democrat   \n",
       "4450    Illinois                 IL       Chicago  91700103.0  Democrat   \n",
       "4463    Illinois                 IL  Cook Suburbs  91700104.0  Democrat   \n",
       "\n",
       "            candidate   votes  fraction_votes  shape  \n",
       "1386  Hillary Clinton  590502           0.570      1  \n",
       "1385   Bernie Sanders  434656           0.420      1  \n",
       "4451  Hillary Clinton  366954           0.536      1  \n",
       "4450   Bernie Sanders  311225           0.454      1  \n",
       "4463  Hillary Clinton  249217           0.536      1  "
      ]
     },
     "execution_count": 34,
     "metadata": {},
     "output_type": "execute_result"
    }
   ],
   "source": [
    "df_sorted = df.sort_values(by=\"votes\", ascending=False)\n",
    "df_sorted.head()"
   ]
  },
  {
   "cell_type": "code",
   "execution_count": 35,
   "metadata": {},
   "outputs": [
    {
     "data": {
      "text/plain": [
       "<pandas.core.groupby.generic.DataFrameGroupBy object at 0x7ff065e5b970>"
      ]
     },
     "execution_count": 35,
     "metadata": {},
     "output_type": "execute_result"
    }
   ],
   "source": [
    "df.groupby([\"state\", \"party\"])"
   ]
  },
  {
   "cell_type": "code",
   "execution_count": 36,
   "metadata": {},
   "outputs": [
    {
     "data": {
      "text/plain": [
       "state          party     \n",
       "Alabama        Democrat       386327\n",
       "               Republican     837632\n",
       "Alaska         Democrat          539\n",
       "               Republican      21930\n",
       "Arizona        Democrat       399097\n",
       "                              ...   \n",
       "West Virginia  Republican     188138\n",
       "Wisconsin      Democrat      1000703\n",
       "               Republican    1072699\n",
       "Wyoming        Democrat          280\n",
       "               Republican        903\n",
       "Name: votes, Length: 95, dtype: int64"
      ]
     },
     "execution_count": 36,
     "metadata": {},
     "output_type": "execute_result"
    }
   ],
   "source": [
    "df.groupby([\"state\", \"party\"])[\"votes\"].sum()"
   ]
  },
  {
   "cell_type": "markdown",
   "metadata": {},
   "source": [
    "podemos usar `apply` en una columna para obtener una nueva columna en función de sus valores"
   ]
  },
  {
   "cell_type": "code",
   "execution_count": 37,
   "metadata": {
    "scrolled": true
   },
   "outputs": [],
   "source": [
    "df['letra_inicial'] = df.state_abbreviation.apply(lambda s: s[0])"
   ]
  },
  {
   "cell_type": "code",
   "execution_count": 38,
   "metadata": {},
   "outputs": [
    {
     "data": {
      "text/plain": [
       "letra_inicial\n",
       "H      46886\n",
       "D     160416\n",
       "R     179594\n",
       "U     254203\n",
       "L     585781\n",
       "K     760181\n",
       "S    1225289\n",
       "V    1984632\n",
       "G    2032941\n",
       "A    2686599\n",
       "W    3010087\n",
       "P    3176340\n",
       "F    3940929\n",
       "O    4904270\n",
       "T    5348465\n",
       "C    5590683\n",
       "I    5657521\n",
       "N    7329864\n",
       "M    7884506\n",
       "Name: votes, dtype: int64"
      ]
     },
     "execution_count": 38,
     "metadata": {},
     "output_type": "execute_result"
    }
   ],
   "source": [
    "df.groupby(\"letra_inicial\")[\"votes\"].sum().sort_values()"
   ]
  },
  {
   "cell_type": "markdown",
   "metadata": {
    "collapsed": true
   },
   "source": [
    "Podemos unir dos dataframes en funcion de sus columnas comunes usando `merge`"
   ]
  },
  {
   "cell_type": "code",
   "execution_count": 39,
   "metadata": {},
   "outputs": [],
   "source": [
    "# Descargamos datos de pobreza por condado en US en https://www.ers.usda.gov/data-products/county-level-data-sets/county-level-data-sets-download-data/\n",
    "df_pobreza = pd.read_csv(\"PovertyEstimates.csv\")"
   ]
  },
  {
   "cell_type": "code",
   "execution_count": 40,
   "metadata": {},
   "outputs": [
    {
     "data": {
      "text/html": [
       "<div>\n",
       "<style scoped>\n",
       "    .dataframe tbody tr th:only-of-type {\n",
       "        vertical-align: middle;\n",
       "    }\n",
       "\n",
       "    .dataframe tbody tr th {\n",
       "        vertical-align: top;\n",
       "    }\n",
       "\n",
       "    .dataframe thead th {\n",
       "        text-align: right;\n",
       "    }\n",
       "</style>\n",
       "<table border=\"1\" class=\"dataframe\">\n",
       "  <thead>\n",
       "    <tr style=\"text-align: right;\">\n",
       "      <th></th>\n",
       "      <th>FIPStxt</th>\n",
       "      <th>PCTPOVALL_2015</th>\n",
       "    </tr>\n",
       "  </thead>\n",
       "  <tbody>\n",
       "    <tr>\n",
       "      <th>0</th>\n",
       "      <td>0</td>\n",
       "      <td>14.7</td>\n",
       "    </tr>\n",
       "    <tr>\n",
       "      <th>1</th>\n",
       "      <td>1000</td>\n",
       "      <td>18.5</td>\n",
       "    </tr>\n",
       "    <tr>\n",
       "      <th>2</th>\n",
       "      <td>1001</td>\n",
       "      <td>12.7</td>\n",
       "    </tr>\n",
       "    <tr>\n",
       "      <th>3</th>\n",
       "      <td>1003</td>\n",
       "      <td>12.9</td>\n",
       "    </tr>\n",
       "    <tr>\n",
       "      <th>4</th>\n",
       "      <td>1005</td>\n",
       "      <td>32.0</td>\n",
       "    </tr>\n",
       "  </tbody>\n",
       "</table>\n",
       "</div>"
      ],
      "text/plain": [
       "   FIPStxt  PCTPOVALL_2015\n",
       "0        0            14.7\n",
       "1     1000            18.5\n",
       "2     1001            12.7\n",
       "3     1003            12.9\n",
       "4     1005            32.0"
      ]
     },
     "execution_count": 40,
     "metadata": {},
     "output_type": "execute_result"
    }
   ],
   "source": [
    "df_pobreza.head()"
   ]
  },
  {
   "cell_type": "code",
   "execution_count": 41,
   "metadata": {},
   "outputs": [
    {
     "data": {
      "text/html": [
       "<div>\n",
       "<style scoped>\n",
       "    .dataframe tbody tr th:only-of-type {\n",
       "        vertical-align: middle;\n",
       "    }\n",
       "\n",
       "    .dataframe tbody tr th {\n",
       "        vertical-align: top;\n",
       "    }\n",
       "\n",
       "    .dataframe thead th {\n",
       "        text-align: right;\n",
       "    }\n",
       "</style>\n",
       "<table border=\"1\" class=\"dataframe\">\n",
       "  <thead>\n",
       "    <tr style=\"text-align: right;\">\n",
       "      <th></th>\n",
       "      <th>state</th>\n",
       "      <th>state_abbreviation</th>\n",
       "      <th>county</th>\n",
       "      <th>fips</th>\n",
       "      <th>party</th>\n",
       "      <th>candidate</th>\n",
       "      <th>votes</th>\n",
       "      <th>fraction_votes</th>\n",
       "      <th>shape</th>\n",
       "      <th>letra_inicial</th>\n",
       "      <th>FIPStxt</th>\n",
       "      <th>PCTPOVALL_2015</th>\n",
       "    </tr>\n",
       "  </thead>\n",
       "  <tbody>\n",
       "    <tr>\n",
       "      <th>0</th>\n",
       "      <td>Alabama</td>\n",
       "      <td>AL</td>\n",
       "      <td>Autauga</td>\n",
       "      <td>1001.0</td>\n",
       "      <td>Democrat</td>\n",
       "      <td>Bernie Sanders</td>\n",
       "      <td>544</td>\n",
       "      <td>0.182</td>\n",
       "      <td>1</td>\n",
       "      <td>A</td>\n",
       "      <td>1001</td>\n",
       "      <td>12.7</td>\n",
       "    </tr>\n",
       "    <tr>\n",
       "      <th>1</th>\n",
       "      <td>Alabama</td>\n",
       "      <td>AL</td>\n",
       "      <td>Autauga</td>\n",
       "      <td>1001.0</td>\n",
       "      <td>Democrat</td>\n",
       "      <td>Hillary Clinton</td>\n",
       "      <td>2387</td>\n",
       "      <td>0.800</td>\n",
       "      <td>1</td>\n",
       "      <td>A</td>\n",
       "      <td>1001</td>\n",
       "      <td>12.7</td>\n",
       "    </tr>\n",
       "    <tr>\n",
       "      <th>2</th>\n",
       "      <td>Alabama</td>\n",
       "      <td>AL</td>\n",
       "      <td>Autauga</td>\n",
       "      <td>1001.0</td>\n",
       "      <td>Republican</td>\n",
       "      <td>Ben Carson</td>\n",
       "      <td>1764</td>\n",
       "      <td>0.146</td>\n",
       "      <td>1</td>\n",
       "      <td>A</td>\n",
       "      <td>1001</td>\n",
       "      <td>12.7</td>\n",
       "    </tr>\n",
       "    <tr>\n",
       "      <th>3</th>\n",
       "      <td>Alabama</td>\n",
       "      <td>AL</td>\n",
       "      <td>Autauga</td>\n",
       "      <td>1001.0</td>\n",
       "      <td>Republican</td>\n",
       "      <td>Donald Trump</td>\n",
       "      <td>5387</td>\n",
       "      <td>0.445</td>\n",
       "      <td>1</td>\n",
       "      <td>A</td>\n",
       "      <td>1001</td>\n",
       "      <td>12.7</td>\n",
       "    </tr>\n",
       "    <tr>\n",
       "      <th>4</th>\n",
       "      <td>Alabama</td>\n",
       "      <td>AL</td>\n",
       "      <td>Autauga</td>\n",
       "      <td>1001.0</td>\n",
       "      <td>Republican</td>\n",
       "      <td>John Kasich</td>\n",
       "      <td>421</td>\n",
       "      <td>0.035</td>\n",
       "      <td>1</td>\n",
       "      <td>A</td>\n",
       "      <td>1001</td>\n",
       "      <td>12.7</td>\n",
       "    </tr>\n",
       "  </tbody>\n",
       "</table>\n",
       "</div>"
      ],
      "text/plain": [
       "     state state_abbreviation   county    fips       party        candidate  \\\n",
       "0  Alabama                 AL  Autauga  1001.0    Democrat   Bernie Sanders   \n",
       "1  Alabama                 AL  Autauga  1001.0    Democrat  Hillary Clinton   \n",
       "2  Alabama                 AL  Autauga  1001.0  Republican       Ben Carson   \n",
       "3  Alabama                 AL  Autauga  1001.0  Republican     Donald Trump   \n",
       "4  Alabama                 AL  Autauga  1001.0  Republican      John Kasich   \n",
       "\n",
       "   votes  fraction_votes  shape letra_inicial  FIPStxt  PCTPOVALL_2015  \n",
       "0    544           0.182      1             A     1001            12.7  \n",
       "1   2387           0.800      1             A     1001            12.7  \n",
       "2   1764           0.146      1             A     1001            12.7  \n",
       "3   5387           0.445      1             A     1001            12.7  \n",
       "4    421           0.035      1             A     1001            12.7  "
      ]
     },
     "execution_count": 41,
     "metadata": {},
     "output_type": "execute_result"
    }
   ],
   "source": [
    "df = df.merge(df_pobreza, left_on=\"fips\", right_on=\"FIPStxt\")\n",
    "df.head()"
   ]
  },
  {
   "cell_type": "code",
   "execution_count": 42,
   "metadata": {
    "scrolled": true
   },
   "outputs": [
    {
     "data": {
      "text/html": [
       "<div>\n",
       "<style scoped>\n",
       "    .dataframe tbody tr th:only-of-type {\n",
       "        vertical-align: middle;\n",
       "    }\n",
       "\n",
       "    .dataframe tbody tr th {\n",
       "        vertical-align: top;\n",
       "    }\n",
       "\n",
       "    .dataframe thead th {\n",
       "        text-align: right;\n",
       "    }\n",
       "</style>\n",
       "<table border=\"1\" class=\"dataframe\">\n",
       "  <thead>\n",
       "    <tr style=\"text-align: right;\">\n",
       "      <th></th>\n",
       "      <th></th>\n",
       "      <th>fraction_votes</th>\n",
       "      <th>PCTPOVALL_2015</th>\n",
       "    </tr>\n",
       "    <tr>\n",
       "      <th>county</th>\n",
       "      <th>party</th>\n",
       "      <th></th>\n",
       "      <th></th>\n",
       "    </tr>\n",
       "  </thead>\n",
       "  <tbody>\n",
       "    <tr>\n",
       "      <th rowspan=\"2\" valign=\"top\">Abbeville</th>\n",
       "      <th>Democrat</th>\n",
       "      <td>0.494000</td>\n",
       "      <td>19.1</td>\n",
       "    </tr>\n",
       "    <tr>\n",
       "      <th>Republican</th>\n",
       "      <td>0.166667</td>\n",
       "      <td>19.1</td>\n",
       "    </tr>\n",
       "    <tr>\n",
       "      <th rowspan=\"2\" valign=\"top\">Acadia</th>\n",
       "      <th>Democrat</th>\n",
       "      <td>0.425500</td>\n",
       "      <td>23.7</td>\n",
       "    </tr>\n",
       "    <tr>\n",
       "      <th>Republican</th>\n",
       "      <td>0.241750</td>\n",
       "      <td>23.7</td>\n",
       "    </tr>\n",
       "    <tr>\n",
       "      <th>Accomack</th>\n",
       "      <th>Democrat</th>\n",
       "      <td>0.497000</td>\n",
       "      <td>20.4</td>\n",
       "    </tr>\n",
       "    <tr>\n",
       "      <th>...</th>\n",
       "      <th>...</th>\n",
       "      <td>...</td>\n",
       "      <td>...</td>\n",
       "    </tr>\n",
       "    <tr>\n",
       "      <th>Zapata</th>\n",
       "      <th>Republican</th>\n",
       "      <td>0.188400</td>\n",
       "      <td>30.9</td>\n",
       "    </tr>\n",
       "    <tr>\n",
       "      <th rowspan=\"2\" valign=\"top\">Zavala</th>\n",
       "      <th>Democrat</th>\n",
       "      <td>0.468000</td>\n",
       "      <td>32.0</td>\n",
       "    </tr>\n",
       "    <tr>\n",
       "      <th>Republican</th>\n",
       "      <td>0.000000</td>\n",
       "      <td>32.0</td>\n",
       "    </tr>\n",
       "    <tr>\n",
       "      <th rowspan=\"2\" valign=\"top\">Ziebach</th>\n",
       "      <th>Democrat</th>\n",
       "      <td>0.500000</td>\n",
       "      <td>47.1</td>\n",
       "    </tr>\n",
       "    <tr>\n",
       "      <th>Republican</th>\n",
       "      <td>0.333333</td>\n",
       "      <td>47.1</td>\n",
       "    </tr>\n",
       "  </tbody>\n",
       "</table>\n",
       "<p>3267 rows × 2 columns</p>\n",
       "</div>"
      ],
      "text/plain": [
       "                      fraction_votes  PCTPOVALL_2015\n",
       "county    party                                     \n",
       "Abbeville Democrat          0.494000            19.1\n",
       "          Republican        0.166667            19.1\n",
       "Acadia    Democrat          0.425500            23.7\n",
       "          Republican        0.241750            23.7\n",
       "Accomack  Democrat          0.497000            20.4\n",
       "...                              ...             ...\n",
       "Zapata    Republican        0.188400            30.9\n",
       "Zavala    Democrat          0.468000            32.0\n",
       "          Republican        0.000000            32.0\n",
       "Ziebach   Democrat          0.500000            47.1\n",
       "          Republican        0.333333            47.1\n",
       "\n",
       "[3267 rows x 2 columns]"
      ]
     },
     "execution_count": 42,
     "metadata": {},
     "output_type": "execute_result"
    }
   ],
   "source": [
    "county_votes = df.groupby([\"county\",\"party\"]).agg({\n",
    "    \"fraction_votes\":\"mean\",\n",
    "    \"PCTPOVALL_2015\": \"mean\"   \n",
    "   }\n",
    ")\n",
    "county_votes"
   ]
  },
  {
   "cell_type": "markdown",
   "metadata": {},
   "source": [
    "# Exportar"
   ]
  },
  {
   "cell_type": "markdown",
   "metadata": {},
   "source": [
    "podemos escribir a excel, \n",
    "\n",
    "<div class=\"alert alert-block alert-alert\">\n",
    "<b>ACTUALIZACION Mayo 2021</b> En general es mejor exportar a formato xlsx en vez de xls (que es el formato antiguo de Microsoft Excel).\n",
    "</div>\n",
    "\n",
    "Si ves este error,\n",
    "\n",
    "``` FutureWarning: As the xlwt package is no longer maintained, the xlwt engine will be removed in a future version of pandas. This is the only engine in pandas that supports writing in the xls format. Install openpyxl and write to an xlsx file instead. You can set the option io.excel.xls.writer to 'xlwt' to silence this warning. While this option is deprecated and will also raise a warning, it can be globally set and the warning suppressed.\n",
    "  rick_morty.to_excel(\"rick_y_morty.xls\", sheet_name=\"personajes\")\n",
    "```\n",
    "\n",
    "reemplaza el nombre `\"rick_y_morty.xls\"` por `\"rick_y_morty.xlsx\"`\n",
    "\n",
    "**para exportar a la version xlsx de excel (version actual, la version xls es una version antigua) se recomienda tener el paquete `openpyxl` instalado en vez de `xlwt`)**"
   ]
  },
  {
   "cell_type": "code",
   "execution_count": 7,
   "metadata": {},
   "outputs": [],
   "source": [
    "rick_morty.to_excel(\"rick_y_morty.xlsx\", sheet_name=\"personajes\")"
   ]
  },
  {
   "cell_type": "markdown",
   "metadata": {},
   "source": [
    "podemos leer de excel, necesitamos el paquete `xlrd`"
   ]
  },
  {
   "cell_type": "markdown",
   "metadata": {},
   "source": [
    "<div class=\"alert alert-block alert-warning\">\n",
    "<b>ACTUALIZACION Mayo 2021:</b> \"sheetname\" fue reemplazado por \"sheet_name\"\n",
    "</div>"
   ]
  },
  {
   "cell_type": "code",
   "execution_count": 10,
   "metadata": {},
   "outputs": [],
   "source": [
    "rick_morty2 = pd.read_excel(\"rick_y_morty.xlsx\", sheet_name=\"personajes\")"
   ]
  },
  {
   "cell_type": "code",
   "execution_count": 11,
   "metadata": {},
   "outputs": [
    {
     "data": {
      "text/html": [
       "<div>\n",
       "<style scoped>\n",
       "    .dataframe tbody tr th:only-of-type {\n",
       "        vertical-align: middle;\n",
       "    }\n",
       "\n",
       "    .dataframe tbody tr th {\n",
       "        vertical-align: top;\n",
       "    }\n",
       "\n",
       "    .dataframe thead th {\n",
       "        text-align: right;\n",
       "    }\n",
       "</style>\n",
       "<table border=\"1\" class=\"dataframe\">\n",
       "  <thead>\n",
       "    <tr style=\"text-align: right;\">\n",
       "      <th></th>\n",
       "      <th>Unnamed: 0</th>\n",
       "      <th>nombre</th>\n",
       "      <th>apellido</th>\n",
       "      <th>edad</th>\n",
       "    </tr>\n",
       "  </thead>\n",
       "  <tbody>\n",
       "    <tr>\n",
       "      <th>0</th>\n",
       "      <td>0</td>\n",
       "      <td>Rick</td>\n",
       "      <td>Sanchez</td>\n",
       "      <td>60</td>\n",
       "    </tr>\n",
       "    <tr>\n",
       "      <th>1</th>\n",
       "      <td>1</td>\n",
       "      <td>Morty</td>\n",
       "      <td>Smith</td>\n",
       "      <td>14</td>\n",
       "    </tr>\n",
       "  </tbody>\n",
       "</table>\n",
       "</div>"
      ],
      "text/plain": [
       "   Unnamed: 0 nombre apellido  edad\n",
       "0           0   Rick  Sanchez    60\n",
       "1           1  Morty    Smith    14"
      ]
     },
     "execution_count": 11,
     "metadata": {},
     "output_type": "execute_result"
    }
   ],
   "source": [
    "rick_morty2.head()"
   ]
  }
 ],
 "metadata": {
  "kernelspec": {
   "display_name": "Python 3",
   "language": "python",
   "name": "python3"
  },
  "language_info": {
   "codemirror_mode": {
    "name": "ipython",
    "version": 3
   },
   "file_extension": ".py",
   "mimetype": "text/x-python",
   "name": "python",
   "nbconvert_exporter": "python",
   "pygments_lexer": "ipython3",
   "version": "3.9.4"
  }
 },
 "nbformat": 4,
 "nbformat_minor": 2
}
